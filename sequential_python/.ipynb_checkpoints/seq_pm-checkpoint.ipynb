{
 "cells": [
  {
   "cell_type": "code",
   "execution_count": 29,
   "metadata": {},
   "outputs": [],
   "source": [
    "import numpy as np\n",
    "from collections import deque\n",
    "import matplotlib.pyplot as plt\n"
   ]
  },
  {
   "cell_type": "code",
   "execution_count": 45,
   "metadata": {},
   "outputs": [
    {
     "ename": "IndentationError",
     "evalue": "unexpected indent (<ipython-input-45-40531e9f08df>, line 9)",
     "output_type": "error",
     "traceback": [
      "\u001b[1;36m  File \u001b[1;32m\"<ipython-input-45-40531e9f08df>\"\u001b[1;36m, line \u001b[1;32m9\u001b[0m\n\u001b[1;33m    line = f.readline().rstrip()\u001b[0m\n\u001b[1;37m    ^\u001b[0m\n\u001b[1;31mIndentationError\u001b[0m\u001b[1;31m:\u001b[0m unexpected indent\n"
     ]
    }
   ],
   "source": [
    "filename='../Parallel'\n",
    "f = open(filename,'r')\n",
    "\n",
    "seq_time = {}\n",
    "dist_time = {}\n",
    "counter = 0\n",
    "diff_vals = {}\n",
    "par_time = {}\n",
    "line = f.readline().rstrip()\n",
    "while(line):\n",
    "    dist = line.split(' ')\n",
    "    if dist and len(dist) == 3:\n",
    "        posts = int(dist[1])\n",
    "        apps = int(dist[0])\n",
    "        time = int(dist[2])\n",
    "        diff = posts - apps\n",
    "        if diff in diff_vals:\n",
    "            diff_vals[diff].append(apps)\n",
    "            par_time[diff].append(time)\n",
    "        else:\n",
    "            diff_vals[diff] = [apps]\n",
    "            par_time[diff] = [time]\n",
    "        line = f.readline().rstrip()"
   ]
  },
  {
   "cell_type": "code",
   "execution_count": 44,
   "metadata": {},
   "outputs": [
    {
     "name": "stdout",
     "output_type": "stream",
     "text": [
      "2 3159900\n",
      "7 1347100\n",
      "12 1392400\n",
      "17 2300700\n",
      "22 2345500\n",
      "27 2560200\n",
      "32 1971600\n",
      "37 2414300\n",
      "42 2157100\n",
      "47 3353800\n",
      "52 2979300\n",
      "57 2939200\n",
      "62 2151700\n",
      "67 2580800\n",
      "72 2273700\n",
      "77 2564300\n",
      "82 3441100\n",
      "87 3767000\n",
      "92 3959100\n",
      "97 3348200\n",
      "20\n"
     ]
    },
    {
     "data": {
      "text/plain": [
       "[<matplotlib.lines.Line2D at 0x1ca1a001dc0>]"
      ]
     },
     "execution_count": 44,
     "metadata": {},
     "output_type": "execute_result"
    },
    {
     "data": {
      "image/png": "[encoded data removed]",
      "text/plain": [
       "<Figure size 432x288 with 1 Axes>"
      ]
     },
     "metadata": {
      "needs_background": "light"
     },
     "output_type": "display_data"
    }
   ],
   "source": [
    "for p,t in zip(diff_vals[5],diff_time[5]):\n",
    "    print(p,t)\n",
    "print(len(diff_vals[5]))\n",
    "plt.plot(diff_vals[5], diff_time[5])\n",
    "\n",
    "plt.plot(diff_vals[0], diff_time[0])"
   ]
  },
  {
   "cell_type": "code",
   "execution_count": 23,
   "metadata": {},
   "outputs": [],
   "source": [
    "#input\n",
    "num_posts = 9\n",
    "num_apps = 8\n",
    "pref_list = {\n",
    "    0:[0,3,4,1,5],\n",
    "    1:[3,4,6,1,7],\n",
    "    2:[3,0,2,7],\n",
    "    3:[0,6,3,2,8],\n",
    "    4:[4,0,6,1,5],\n",
    "    5:[6,5],\n",
    "    6:[6,3,7,1],\n",
    "    7:[6,3,0,4,8,2]\n",
    "}"
   ]
  },
  {
   "cell_type": "code",
   "execution_count": 78,
   "metadata": {},
   "outputs": [],
   "source": [
    "def get_post_list(app_list):\n",
    "    post_list = {}\n",
    "    deg_post_list = {}\n",
    "    for p in range(num_posts):\n",
    "        post_list[p] = [0]*num_apps\n",
    "        deg_post_list[p] = 0\n",
    "    for p in app_list:\n",
    "        lst = app_list[p]\n",
    "        for i in lst:\n",
    "            post_list[i][p] = 1\n",
    "            deg_post_list[i] += 1\n",
    "    return post_list, deg_post_list\n",
    "\n",
    "def get_app_list(post_list, adj_mat = False):\n",
    "    app_list = {}\n",
    "    deg_app_list = {}\n",
    "    for p in range(num_apps):\n",
    "        app_list[p] = [0]*num_posts\n",
    "        deg_app_list[p] = 0\n",
    "    for p in post_list:\n",
    "        lst = post_list[p]\n",
    "        if adj_mat:\n",
    "            for i in range(len(lst)):\n",
    "                if lst[i] == 1:\n",
    "                    app_list[i][p] = 1\n",
    "                    deg_app_list[i] += 1\n",
    "        else:\n",
    "            for i in lst:\n",
    "                app_list[i][p] = 1\n",
    "                deg_app_list[i] += 1\n",
    "                \n",
    "    return app_list, deg_app_list\n"
   ]
  },
  {
   "cell_type": "code",
   "execution_count": 28,
   "metadata": {},
   "outputs": [
    {
     "name": "stdout",
     "output_type": "stream",
     "text": [
      "[0, 3, 3, 0, 4, 6, 6, 6]\n",
      "[1, 1, 2, 2, 1, 5, 7, 8]\n"
     ]
    }
   ],
   "source": [
    "f_posts = []\n",
    "f_posts_indexed = [-1]*(np.max(list(pref_list.keys()))+1)\n",
    "for p in pref_list:\n",
    "    f_posts.append(pref_list[p][0])\n",
    "    f_posts_indexed[p] = pref_list[p][0]\n",
    "    \n",
    "f_posts = set(f_posts)\n",
    "print(f_posts_indexed)\n",
    "s_posts_indexed = [-1]*(np.max(list(pref_list.keys()))+1)\n",
    "for p in pref_list:\n",
    "    lst = pref_list[p]\n",
    "    for i in lst:\n",
    "        if i in f_posts:\n",
    "            continue\n",
    "        else:\n",
    "            s_posts_indexed[p] = i\n",
    "            break\n",
    "print(s_posts_indexed)\n",
    "s_posts = set(s_posts_indexed)"
   ]
  },
  {
   "cell_type": "code",
   "execution_count": 33,
   "metadata": {},
   "outputs": [
    {
     "name": "stdout",
     "output_type": "stream",
     "text": [
      "[0, 1]\n",
      "[3, 1]\n",
      "[3, 2]\n",
      "[0, 2]\n",
      "[4, 1]\n",
      "[6, 5]\n",
      "[6, 7]\n",
      "[6, 8]\n"
     ]
    }
   ],
   "source": [
    "red_G = {}\n",
    "for p in pref_list:\n",
    "    lst = pref_list[p]\n",
    "    red_G[p]=[lst[0]] #append the f-post of p\n",
    "    for i in lst:\n",
    "        if i in s_posts:\n",
    "            red_G[p].append(i)\n",
    "            break\n",
    "for r in red_G:\n",
    "    print(red_G[r])"
   ]
  },
  {
   "cell_type": "code",
   "execution_count": 95,
   "metadata": {},
   "outputs": [
    {
     "name": "stdout",
     "output_type": "stream",
     "text": [
      "{0: [1, 1, 0, 0, 0, 0, 0, 0, 0], 1: [0, 1, 0, 1, 0, 0, 0, 0, 0], 2: [0, 0, 1, 1, 0, 0, 0, 0, 0], 3: [1, 0, 1, 0, 0, 0, 0, 0, 0], 4: [0, 1, 0, 0, 1, 0, 0, 0, 0], 5: [0, 0, 0, 0, 0, 1, 1, 0, 0], 6: [0, 0, 0, 0, 0, 0, 1, 1, 0], 7: [0, 0, 0, 0, 0, 0, 1, 0, 1]}\n"
     ]
    }
   ],
   "source": [
    "\n",
    "print(red_al)"
   ]
  },
  {
   "cell_type": "code",
   "execution_count": 109,
   "metadata": {},
   "outputs": [
    {
     "name": "stdout",
     "output_type": "stream",
     "text": [
      "{0: [1, 0, 0, 1, 0, 0, 0, 0], 1: [1, 1, 0, 0, 1, 0, 0, 0], 2: [0, 0, 1, 1, 0, 0, 0, 0], 3: [0, 1, 1, 0, 0, 0, 0, 0], 4: [0, 0, 0, 0, 1, 0, 0, 0], 5: [0, 0, 0, 0, 0, 1, 0, 0], 6: [0, 0, 0, 0, 0, 1, 1, 1], 7: [0, 0, 0, 0, 0, 0, 1, 0], 8: [0, 0, 0, 0, 0, 0, 0, 1]} \n",
      " {0: [1, 1, 0, 0, 0, 0, 0, 0, 0], 1: [0, 1, 0, 1, 0, 0, 0, 0, 0], 2: [0, 0, 1, 1, 0, 0, 0, 0, 0], 3: [1, 0, 1, 0, 0, 0, 0, 0, 0], 4: [0, 1, 0, 0, 1, 0, 0, 0, 0], 5: [0, 0, 0, 0, 0, 1, 1, 0, 0], 6: [0, 0, 0, 0, 0, 0, 1, 1, 0], 7: [0, 0, 0, 0, 0, 0, 1, 0, 1]}\n",
      "{0: [1000, 0, 0, 1, 0, 0, 0, 0], 1: [1, 1, 0, 0, 1, 0, 0, 0], 2: [0, 0, 1, 1, 0, 0, 0, 0], 3: [0, 1, 1, 0, 0, 0, 0, 0], 4: [0, 0, 0, 0, 1, 0, 0, 0], 5: [0, 0, 0, 0, 0, 1, 0, 0], 6: [0, 0, 0, 0, 0, 1, 1, 1], 7: [0, 0, 0, 0, 0, 0, 1, 0], 8: [0, 0, 0, 0, 0, 0, 0, 1]} \n",
      " {0: [1, 1, 0, 0, 0, 0, 0, 0, 0], 1: [0, 1, 0, 1, 0, 0, 0, 0, 0], 2: [0, 0, 1, 1, 0, 0, 0, 0, 0], 3: [1, 0, 1, 0, 0, 0, 0, 0, 0], 4: [0, 1, 0, 0, 1, 0, 0, 0, 0], 5: [0, 0, 0, 0, 0, 1, 1, 0, 0], 6: [0, 0, 0, 0, 0, 0, 1, 1, 0], 7: [0, 0, 0, 0, 0, 0, 1, 0, 1]}\n"
     ]
    }
   ],
   "source": [
    "#reduced graph:\n",
    "red_pl, deg_red_pl = get_post_list(red_G)\n",
    "\n",
    "red_al, deg_red_al = get_app_list(red_pl, True)\n",
    "print(red_pl, '\\n', red_al)\n",
    "\n",
    "red_pl[0][0] = 1000\n",
    "\n",
    "print(red_pl, '\\n',red_al)"
   ]
  },
  {
   "cell_type": "code",
   "execution_count": 140,
   "metadata": {},
   "outputs": [
    {
     "name": "stdout",
     "output_type": "stream",
     "text": [
      "degree of 4 1\n",
      "removed 4\n",
      "degree of 5 1\n",
      "removed 5\n",
      "degree of 7 1\n",
      "added 6\n",
      "removed 7\n",
      "removed 6\n",
      "removed 8\n",
      "0 0 -1\n",
      "1 1 -1\n",
      "2 3 -1\n",
      "3 2 -1\n",
      "done with a cycle\n"
     ]
    }
   ],
   "source": [
    "#algo1\n",
    "M = []\n",
    "red_pl, deg_red_pl = get_post_list(red_G)\n",
    "\n",
    "red_al, deg_red_al = get_app_list(red_pl, True)\n",
    "\n",
    "deg_1_posts = []\n",
    "for d in deg_red_pl:\n",
    "    if deg_red_pl[d] == 1:\n",
    "        deg_1_posts.append(d)\n",
    "\n",
    "for d in deg_red_al:\n",
    "    if deg_red_al[d] == 0:\n",
    "        deg_zero_app += 1\n",
    "        \n",
    "deg_zero_post = 0\n",
    "deg_zero_app = 0\n",
    "while(len(deg_1_posts) > 0):\n",
    "    p = deg_1_posts[0]\n",
    "    print('degree of',p,deg_red_pl[p])\n",
    "    while p != -1:\n",
    "        lst = red_pl[p]\n",
    "        app = -1\n",
    "        for i in range(len(lst)): # find an applicant that is linked to the post\n",
    "            if lst[i] == 1:\n",
    "                app = i \n",
    "                break\n",
    "\n",
    "        M.append((app,p)) # add deg1 post to matching\n",
    "\n",
    "\n",
    "        for post in red_pl:\n",
    "            if red_pl[post][app] == 1:\n",
    "                red_pl[post][app] = 0\n",
    "                deg_red_pl[post] -= 1\n",
    "                if deg_red_pl[post] == 1:\n",
    "                    deg_1_posts.append(post)\n",
    "                    print('added', post)\n",
    "                elif deg_red_pl[post] == 0:\n",
    "                    deg_1_posts.remove(post)\n",
    "                    deg_zero_post += 1\n",
    "                    print('removed', post)\n",
    "        deg_red_pl[p] = 0\n",
    "\n",
    "        #in a distributed setting, can run the one degree check per node\n",
    "\n",
    "\n",
    "        next_p = -1\n",
    "        # update the reduced graphs and degree graphs\n",
    "        for i in range(len(red_al[app])):\n",
    "            if not i == p and red_al[app][i] == 1 and deg_red_pl[i] == 1: #take all even paths\n",
    "                next_p = i\n",
    "            red_al[app][i] = 0\n",
    "        deg_red_al[app] = 0\n",
    "        for app in red_al:\n",
    "            if red_al[app][p] == 1:\n",
    "                red_al[app][p] = 0\n",
    "                deg_red_al[app] -= 1\n",
    "            if deg_red_al[app] == 0:\n",
    "                deg_zero_app += 1\n",
    "        \n",
    "        p = next_p\n",
    "                \n",
    "# if there are less posts with edges than applicants with edges, not all applicants will get a post\n",
    "if (num_posts - deg_zero_post) < (num_apps - deg_zero_app):\n",
    "    print((num_posts - deg_zero_post),(num_apps - deg_zero_app))\n",
    "    print('no answer')\n",
    "else:\n",
    "    # break even cycles into matchings by first come first served:\n",
    "    deg_many_posts = [] \n",
    "    for p in deg_red_pl:\n",
    "        if deg_red_pl[p] > 0:\n",
    "            deg_many_posts.append(p)\n",
    "    \n",
    "    while(len(deg_many_posts) > 0): #in case there are multiple disjoint cycles\n",
    "        p = deg_many_posts[0] \n",
    "        while(p != -1): #for each cycle, look at every other edge to put into matching\n",
    "            lst = red_pl[p]\n",
    "            app = -1\n",
    "            for i in range(len(lst)):\n",
    "                if lst[i] == 1:\n",
    "                    app = i\n",
    "                    break\n",
    "                    \n",
    "            M.append((app, p))\n",
    "            \n",
    "            for i in red_al:\n",
    "                if red_al[i][p] == 1:\n",
    "                    red_al[i][p] = 0 \n",
    "                    deg_red_al[i] -= 1\n",
    "\n",
    "            for i in red_pl:\n",
    "                if red_pl[i][app] == 1:\n",
    "                    red_pl[i][app] = 0\n",
    "                    deg_red_pl[i] -= 1\n",
    "                if deg_red_pl[i] == 0 and i in deg_many_posts:\n",
    "                    deg_many_posts.remove(i)\n",
    "\n",
    "            next_p = -1\n",
    "            print(app, p, next_p)\n",
    "            \n",
    "            if (deg_red_al[app]) == 0:\n",
    "                print('done with a cycle')\n",
    "            else:\n",
    "                lst = red_al[app]\n",
    "                for i in range(len(lst)):\n",
    "                    if lst[i] == 1:\n",
    "                        next_p = i\n",
    "\n",
    "            if next_p == -1:\n",
    "                break\n",
    "            else:\n",
    "                p = next_p\n",
    "        \n"
   ]
  },
  {
   "cell_type": "code",
   "execution_count": 141,
   "metadata": {
    "scrolled": true
   },
   "outputs": [
    {
     "name": "stdout",
     "output_type": "stream",
     "text": [
      "0 : [0, 0, 0, 0, 0, 0, 0, 0]\n",
      "1 : [0, 0, 0, 0, 0, 0, 0, 0]\n",
      "2 : [0, 0, 0, 0, 0, 0, 0, 0]\n",
      "3 : [0, 0, 0, 0, 0, 0, 0, 0]\n",
      "4 : [0, 0, 0, 0, 0, 0, 0, 0]\n",
      "5 : [0, 0, 0, 0, 0, 0, 0, 0]\n",
      "6 : [0, 0, 0, 0, 0, 0, 0, 0]\n",
      "7 : [0, 0, 0, 0, 0, 0, 0, 0]\n",
      "8 : [0, 0, 0, 0, 0, 0, 0, 0]\n",
      "[(4, 4), (5, 5), (6, 7), (7, 6), (0, 0), (1, 1), (2, 3), (3, 2)]\n"
     ]
    }
   ],
   "source": [
    "#algo2:\n",
    "for r in red_pl:\n",
    "    print(r, ':', red_pl[r])\n",
    "print(M)"
   ]
  }
 ],
 "metadata": {
  "kernelspec": {
   "display_name": "Python 3",
   "language": "python",
   "name": "python3"
  },
  "language_info": {
   "codemirror_mode": {
    "name": "ipython",
    "version": 3
   },
   "file_extension": ".py",
   "mimetype": "text/x-python",
   "name": "python",
   "nbconvert_exporter": "python",
   "pygments_lexer": "ipython3",
   "version": "3.8.3"
  }
 },
 "nbformat": 4,
 "nbformat_minor": 4
}
